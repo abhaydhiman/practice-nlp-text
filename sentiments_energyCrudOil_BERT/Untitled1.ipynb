{
  "nbformat": 4,
  "nbformat_minor": 0,
  "metadata": {
    "colab": {
      "name": "Untitled1.ipynb",
      "provenance": [],
      "collapsed_sections": []
    },
    "kernelspec": {
      "name": "python3",
      "display_name": "Python 3"
    }
  },
  "cells": [
    {
      "cell_type": "code",
      "metadata": {
        "id": "PbGhk8-YzM8O"
      },
      "source": [
        "!pip install ktrain"
      ],
      "execution_count": null,
      "outputs": []
    },
    {
      "cell_type": "code",
      "metadata": {
        "id": "alt19UyzzTNW"
      },
      "source": [
        "# Importing the libraries.\n",
        "import pandas as pd\n",
        "import numpy as np\n",
        "import ktrain\n",
        "import tensorflow\n",
        "from ktrain import text\n",
        "from sklearn.model_selection import train_test_split"
      ],
      "execution_count": 2,
      "outputs": []
    },
    {
      "cell_type": "code",
      "metadata": {
        "id": "a4CE-FsM2miK"
      },
      "source": [
        "df = pd.read_csv('/content/tweets.csv')"
      ],
      "execution_count": 5,
      "outputs": []
    },
    {
      "cell_type": "code",
      "metadata": {
        "id": "RS-Y1mT12xxg",
        "outputId": "1d6ae474-0780-47d4-f0b4-4e95dc710518",
        "colab": {
          "base_uri": "https://localhost:8080/",
          "height": 561
        }
      },
      "source": [
        "df.head()"
      ],
      "execution_count": 6,
      "outputs": [
        {
          "output_type": "execute_result",
          "data": {
            "text/html": [
              "<div>\n",
              "<style scoped>\n",
              "    .dataframe tbody tr th:only-of-type {\n",
              "        vertical-align: middle;\n",
              "    }\n",
              "\n",
              "    .dataframe tbody tr th {\n",
              "        vertical-align: top;\n",
              "    }\n",
              "\n",
              "    .dataframe thead th {\n",
              "        text-align: right;\n",
              "    }\n",
              "</style>\n",
              "<table border=\"1\" class=\"dataframe\">\n",
              "  <thead>\n",
              "    <tr style=\"text-align: right;\">\n",
              "      <th></th>\n",
              "      <th>text</th>\n",
              "      <th>favorited</th>\n",
              "      <th>favoriteCount</th>\n",
              "      <th>replyToSN</th>\n",
              "      <th>created</th>\n",
              "      <th>truncated</th>\n",
              "      <th>replyToSID</th>\n",
              "      <th>id</th>\n",
              "      <th>replyToUID</th>\n",
              "      <th>statusSource</th>\n",
              "      <th>screenName</th>\n",
              "      <th>retweetCount</th>\n",
              "      <th>isRetweet</th>\n",
              "      <th>retweeted</th>\n",
              "      <th>longitude</th>\n",
              "      <th>latitude</th>\n",
              "    </tr>\n",
              "  </thead>\n",
              "  <tbody>\n",
              "    <tr>\n",
              "      <th>0</th>\n",
              "      <td>With domestic output exceeding regional demand...</td>\n",
              "      <td>False</td>\n",
              "      <td>0</td>\n",
              "      <td>NaN</td>\n",
              "      <td>2019-07-05T12:52:01Z</td>\n",
              "      <td>True</td>\n",
              "      <td>NaN</td>\n",
              "      <td>1147125982907813888</td>\n",
              "      <td>NaN</td>\n",
              "      <td>&lt;a href=\"https://www.oktopost.com\" rel=\"nofoll...</td>\n",
              "      <td>ArgusMedia</td>\n",
              "      <td>0</td>\n",
              "      <td>False</td>\n",
              "      <td>False</td>\n",
              "      <td>NaN</td>\n",
              "      <td>NaN</td>\n",
              "    </tr>\n",
              "    <tr>\n",
              "      <th>1</th>\n",
              "      <td>For Friday, here is US Crude Oil front 12 mont...</td>\n",
              "      <td>False</td>\n",
              "      <td>0</td>\n",
              "      <td>NaN</td>\n",
              "      <td>2019-07-05T12:50:03Z</td>\n",
              "      <td>True</td>\n",
              "      <td>NaN</td>\n",
              "      <td>1147125489103974400</td>\n",
              "      <td>NaN</td>\n",
              "      <td>&lt;a href=\"https://twittimer.com\" rel=\"nofollow\"...</td>\n",
              "      <td>macrohedged</td>\n",
              "      <td>0</td>\n",
              "      <td>False</td>\n",
              "      <td>False</td>\n",
              "      <td>NaN</td>\n",
              "      <td>NaN</td>\n",
              "    </tr>\n",
              "    <tr>\n",
              "      <th>2</th>\n",
              "      <td>RT @aeberman12: OPEC \"pumped 29.6 mmbpd last m...</td>\n",
              "      <td>False</td>\n",
              "      <td>0</td>\n",
              "      <td>NaN</td>\n",
              "      <td>2019-07-05T12:39:58Z</td>\n",
              "      <td>False</td>\n",
              "      <td>NaN</td>\n",
              "      <td>1147122950753181697</td>\n",
              "      <td>NaN</td>\n",
              "      <td>&lt;a href=\"http://twitter.com\" rel=\"nofollow\"&gt;Tw...</td>\n",
              "      <td>El_Spy</td>\n",
              "      <td>1</td>\n",
              "      <td>True</td>\n",
              "      <td>False</td>\n",
              "      <td>NaN</td>\n",
              "      <td>NaN</td>\n",
              "    </tr>\n",
              "    <tr>\n",
              "      <th>3</th>\n",
              "      <td>RT @aeberman12: \"Ships vanishing from tracking...</td>\n",
              "      <td>False</td>\n",
              "      <td>0</td>\n",
              "      <td>NaN</td>\n",
              "      <td>2019-07-05T12:38:45Z</td>\n",
              "      <td>False</td>\n",
              "      <td>NaN</td>\n",
              "      <td>1147122646003437568</td>\n",
              "      <td>NaN</td>\n",
              "      <td>&lt;a href=\"http://twitter.com/download/iphone\" r...</td>\n",
              "      <td>SuperiorMar</td>\n",
              "      <td>1</td>\n",
              "      <td>True</td>\n",
              "      <td>False</td>\n",
              "      <td>NaN</td>\n",
              "      <td>NaN</td>\n",
              "    </tr>\n",
              "    <tr>\n",
              "      <th>4</th>\n",
              "      <td>OPEC \"pumped 29.6 mmbpd last month, down 170 k...</td>\n",
              "      <td>False</td>\n",
              "      <td>4</td>\n",
              "      <td>NaN</td>\n",
              "      <td>2019-07-05T12:38:36Z</td>\n",
              "      <td>True</td>\n",
              "      <td>NaN</td>\n",
              "      <td>1147122604551155712</td>\n",
              "      <td>NaN</td>\n",
              "      <td>&lt;a href=\"http://twitter.com\" rel=\"nofollow\"&gt;Tw...</td>\n",
              "      <td>aeberman12</td>\n",
              "      <td>1</td>\n",
              "      <td>False</td>\n",
              "      <td>False</td>\n",
              "      <td>NaN</td>\n",
              "      <td>NaN</td>\n",
              "    </tr>\n",
              "  </tbody>\n",
              "</table>\n",
              "</div>"
            ],
            "text/plain": [
              "                                                text  ...  latitude\n",
              "0  With domestic output exceeding regional demand...  ...       NaN\n",
              "1  For Friday, here is US Crude Oil front 12 mont...  ...       NaN\n",
              "2  RT @aeberman12: OPEC \"pumped 29.6 mmbpd last m...  ...       NaN\n",
              "3  RT @aeberman12: \"Ships vanishing from tracking...  ...       NaN\n",
              "4  OPEC \"pumped 29.6 mmbpd last month, down 170 k...  ...       NaN\n",
              "\n",
              "[5 rows x 16 columns]"
            ]
          },
          "metadata": {
            "tags": []
          },
          "execution_count": 6
        }
      ]
    },
    {
      "cell_type": "code",
      "metadata": {
        "id": "ojoDkNFv4LBF",
        "outputId": "b09d27de-3495-42ce-cd4c-145b1cc4c8a8",
        "colab": {
          "base_uri": "https://localhost:8080/",
          "height": 35
        }
      },
      "source": [
        "df.shape"
      ],
      "execution_count": 7,
      "outputs": [
        {
          "output_type": "execute_result",
          "data": {
            "text/plain": [
              "(1000, 16)"
            ]
          },
          "metadata": {
            "tags": []
          },
          "execution_count": 7
        }
      ]
    },
    {
      "cell_type": "code",
      "metadata": {
        "id": "Eg2xa2HA5S4-",
        "outputId": "ad9634d9-b355-4380-cb51-d149857320a5",
        "colab": {
          "base_uri": "https://localhost:8080/",
          "height": 319
        }
      },
      "source": [
        "df.isnull().sum()"
      ],
      "execution_count": 24,
      "outputs": [
        {
          "output_type": "execute_result",
          "data": {
            "text/plain": [
              "text                0\n",
              "favorited           0\n",
              "favoriteCount       0\n",
              "replyToSN         955\n",
              "created             0\n",
              "truncated           0\n",
              "replyToSID        964\n",
              "id                  0\n",
              "replyToUID        955\n",
              "statusSource        0\n",
              "screenName          0\n",
              "retweetCount        0\n",
              "isRetweet           0\n",
              "retweeted           0\n",
              "longitude        1000\n",
              "latitude         1000\n",
              "dtype: int64"
            ]
          },
          "metadata": {
            "tags": []
          },
          "execution_count": 24
        }
      ]
    },
    {
      "cell_type": "code",
      "metadata": {
        "id": "mnm5BkpS4MAB",
        "outputId": "c6677a69-5eed-405d-8b27-4650e8f260fe",
        "colab": {
          "base_uri": "https://localhost:8080/",
          "height": 35
        }
      },
      "source": [
        "# splitting data into train and test part.\n",
        "## train data length.\n",
        "train_data_len = df.shape[0]*0.7\n",
        "\n",
        "## here is our train data.\n",
        "train_data = df.loc[:train_data_len-1]\n",
        "\n",
        "## train data shape.\n",
        "train_data.shape"
      ],
      "execution_count": 8,
      "outputs": [
        {
          "output_type": "execute_result",
          "data": {
            "text/plain": [
              "(700, 16)"
            ]
          },
          "metadata": {
            "tags": []
          },
          "execution_count": 8
        }
      ]
    },
    {
      "cell_type": "code",
      "metadata": {
        "id": "3mw35I6_4lmX",
        "outputId": "722ebcaf-ab42-45a7-f919-657f28e61a6a",
        "colab": {
          "base_uri": "https://localhost:8080/",
          "height": 35
        }
      },
      "source": [
        "## getting the test data.\n",
        "test_data = df.loc[train_data_len:]\n",
        "\n",
        "## getting the shape for test data.\n",
        "test_data.shape"
      ],
      "execution_count": 9,
      "outputs": [
        {
          "output_type": "execute_result",
          "data": {
            "text/plain": [
              "(300, 16)"
            ]
          },
          "metadata": {
            "tags": []
          },
          "execution_count": 9
        }
      ]
    },
    {
      "cell_type": "code",
      "metadata": {
        "id": "cGF2PpTe2yuS",
        "outputId": "0e3ba841-0b93-4c2f-d0e7-db9b736a2a91",
        "colab": {
          "base_uri": "https://localhost:8080/",
          "height": 282
        }
      },
      "source": [
        "(X_train, y_train), (X_test, y_test), preprocess = text.texts_from_df(train_df=train_data,\n",
        "                   text_column='text',\n",
        "                   label_columns='truncated',\n",
        "                   val_df=test_data,\n",
        "                   maxlen=400,\n",
        "                   preprocess_mode='bert',\n",
        "                   )"
      ],
      "execution_count": 10,
      "outputs": [
        {
          "output_type": "stream",
          "text": [
            "downloading pretrained BERT model (uncased_L-12_H-768_A-12.zip)...\n",
            "[██████████████████████████████████████████████████]\n",
            "extracting pretrained BERT model...\n",
            "done.\n",
            "\n",
            "cleanup downloaded zip...\n",
            "done.\n",
            "\n",
            "preprocessing train...\n",
            "language: en\n"
          ],
          "name": "stdout"
        },
        {
          "output_type": "display_data",
          "data": {
            "text/html": [
              "done."
            ],
            "text/plain": [
              "<IPython.core.display.HTML object>"
            ]
          },
          "metadata": {
            "tags": []
          }
        },
        {
          "output_type": "stream",
          "text": [
            "Is Multi-Label? False\n",
            "preprocessing test...\n",
            "language: en\n"
          ],
          "name": "stdout"
        },
        {
          "output_type": "display_data",
          "data": {
            "text/html": [
              "done."
            ],
            "text/plain": [
              "<IPython.core.display.HTML object>"
            ]
          },
          "metadata": {
            "tags": []
          }
        }
      ]
    },
    {
      "cell_type": "code",
      "metadata": {
        "id": "TXPxjbQ2618U",
        "outputId": "4046ba2d-3658-4a7b-854d-f4db04241435",
        "colab": {
          "base_uri": "https://localhost:8080/",
          "height": 35
        }
      },
      "source": [
        "X_train[0].shape"
      ],
      "execution_count": 11,
      "outputs": [
        {
          "output_type": "execute_result",
          "data": {
            "text/plain": [
              "(700, 400)"
            ]
          },
          "metadata": {
            "tags": []
          },
          "execution_count": 11
        }
      ]
    },
    {
      "cell_type": "code",
      "metadata": {
        "id": "pko886lO7PKR",
        "outputId": "c1373a16-caee-47b8-ae07-562eeb08d91f",
        "colab": {
          "base_uri": "https://localhost:8080/",
          "height": 141
        }
      },
      "source": [
        "X_train[0]"
      ],
      "execution_count": 12,
      "outputs": [
        {
          "output_type": "execute_result",
          "data": {
            "text/plain": [
              "array([[  101,  2007,  4968, ...,     0,     0,     0],\n",
              "       [  101,  2005,  5958, ...,     0,     0,     0],\n",
              "       [  101, 19387,  1030, ...,     0,     0,     0],\n",
              "       ...,\n",
              "       [  101, 19387,  2762, ...,     0,     0,     0],\n",
              "       [  101, 19387, 13066, ...,     0,     0,     0],\n",
              "       [  101, 19387,  1037, ...,     0,     0,     0]])"
            ]
          },
          "metadata": {
            "tags": []
          },
          "execution_count": 12
        }
      ]
    },
    {
      "cell_type": "code",
      "metadata": {
        "id": "MSrmHV0w7TjD",
        "outputId": "3a0af529-d46e-4d30-dd1d-8b3313a2966d",
        "colab": {
          "base_uri": "https://localhost:8080/",
          "height": 70
        }
      },
      "source": [
        "model = text.text_classifier(\n",
        "    name='bert',\n",
        "    train_data=(X_train, y_train),\n",
        "    preproc=preprocess,\n",
        ")"
      ],
      "execution_count": 13,
      "outputs": [
        {
          "output_type": "stream",
          "text": [
            "Is Multi-Label? False\n",
            "maxlen is 400\n",
            "done.\n"
          ],
          "name": "stdout"
        }
      ]
    },
    {
      "cell_type": "code",
      "metadata": {
        "id": "4K-0szXF8dIv"
      },
      "source": [
        "# Get learning rate\n",
        "learner = ktrain.get_learner(\n",
        "    model=model,\n",
        "    train_data=(X_train, y_train),\n",
        "    val_data=(X_test, y_test),\n",
        "    batch_size=6,\n",
        ")"
      ],
      "execution_count": 15,
      "outputs": []
    },
    {
      "cell_type": "code",
      "metadata": {
        "id": "TCrSXoX39S1Q",
        "outputId": "36caa0dd-4063-4468-d729-313a9c4d9077",
        "colab": {
          "base_uri": "https://localhost:8080/",
          "height": 498
        }
      },
      "source": [
        "learner.lr_find(max_epochs=3)\n",
        "learner.lr_plot()"
      ],
      "execution_count": 16,
      "outputs": [
        {
          "output_type": "stream",
          "text": [
            "simulating training for different learning rates... this may take a few moments...\n",
            "Epoch 1/3\n",
            "117/117 [==============================] - 3226s 28s/step - loss: 0.5641 - accuracy: 0.7243\n",
            "Epoch 2/3\n",
            "117/117 [==============================] - 3241s 28s/step - loss: 1.0312 - accuracy: 0.6429\n",
            "Epoch 3/3\n",
            "117/117 [==============================] - 3232s 28s/step - loss: 6.7004 - accuracy: 0.5000\n",
            "\n",
            "\n",
            "done.\n",
            "Please invoke the Learner.lr_plot() method to visually inspect the loss plot to help identify the maximal learning rate associated with falling loss.\n"
          ],
          "name": "stdout"
        },
        {
          "output_type": "display_data",
          "data": {
            "image/png": "[encoded data removed]",
            "text/plain": [
              "<Figure size 432x288 with 1 Axes>"
            ]
          },
          "metadata": {
            "tags": [],
            "needs_background": "light"
          }
        }
      ]
    },
    {
      "cell_type": "code",
      "metadata": {
        "id": "K0o3Bqyv9dCl",
        "outputId": "51377d45-d948-4770-cc9a-7b521f5e5c6b",
        "colab": {
          "base_uri": "https://localhost:8080/",
          "height": 126
        }
      },
      "source": [
        "learner.fit_onecycle(lr=1e-6, epochs=1)"
      ],
      "execution_count": 17,
      "outputs": [
        {
          "output_type": "stream",
          "text": [
            "\n",
            "\n",
            "begin training using onecycle policy with max lr of 1e-06...\n",
            "117/117 [==============================] - 3685s 31s/step - loss: 0.6387 - accuracy: 0.6971 - val_loss: 0.6036 - val_accuracy: 0.8300\n"
          ],
          "name": "stdout"
        },
        {
          "output_type": "execute_result",
          "data": {
            "text/plain": [
              "<tensorflow.python.keras.callbacks.History at 0x7fb1a1c392e8>"
            ]
          },
          "metadata": {
            "tags": []
          },
          "execution_count": 17
        }
      ]
    },
    {
      "cell_type": "code",
      "metadata": {
        "id": "m9YL8yUfpHlo"
      },
      "source": [
        "predictor = ktrain.get_predictor(learner.model, preproc=preprocess)"
      ],
      "execution_count": 18,
      "outputs": []
    },
    {
      "cell_type": "code",
      "metadata": {
        "id": "k8ytf89M3l8O",
        "outputId": "cd27bb43-5438-4ddb-8912-8c7f8baf537e",
        "colab": {
          "base_uri": "https://localhost:8080/",
          "height": 35
        }
      },
      "source": [
        "doc = list(df.text.head())\n",
        "predictor.predict(doc)\n",
        "# ------------------------------------------------\n",
        "# truncated is label column in the dataset...\n",
        "# truncated --> True\n",
        "# not_truncated --> False\n",
        "# ------------------------------------------------"
      ],
      "execution_count": 27,
      "outputs": [
        {
          "output_type": "display_data",
          "data": {
            "text/html": [
              ""
            ],
            "text/plain": [
              "<IPython.core.display.HTML object>"
            ]
          },
          "metadata": {
            "tags": []
          }
        },
        {
          "output_type": "execute_result",
          "data": {
            "text/plain": [
              "['truncated', 'truncated', 'not_truncated', 'not_truncated', 'truncated']"
            ]
          },
          "metadata": {
            "tags": []
          },
          "execution_count": 27
        }
      ]
    },
    {
      "cell_type": "code",
      "metadata": {
        "id": "Qonpn_mI4Eyz"
      },
      "source": [
        "predictor.save('content/bert')"
      ],
      "execution_count": 28,
      "outputs": []
    },
    {
      "cell_type": "code",
      "metadata": {
        "id": "n9HJj6a-6ZI-"
      },
      "source": [
        ""
      ],
      "execution_count": null,
      "outputs": []
    }
  ]
}